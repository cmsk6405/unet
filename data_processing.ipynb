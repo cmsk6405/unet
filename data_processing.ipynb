{
 "cells": [
  {
   "cell_type": "markdown",
   "metadata": {},
   "source": [
    "데이터 캐글 링크  \n",
    "https://www.kaggle.com/datasets/ipythonx/retinal-vessel-segmentation"
   ]
  },
  {
   "cell_type": "code",
   "execution_count": 1,
   "metadata": {},
   "outputs": [],
   "source": [
    "import os\n",
    "import numpy as np\n",
    "from PIL import Image\n",
    "import matplotlib.pyplot as plt\n",
    "\n",
    "from sklearn.model_selection import train_test_split\n",
    "from glob import glob"
   ]
  },
  {
   "cell_type": "code",
   "execution_count": 2,
   "metadata": {},
   "outputs": [],
   "source": [
    "train_img_dir = \"/mnt/d/Data/segmetation/망막/train/image\"\n",
    "train_mask_dir = \"/mnt/d/Data/segmetation/망막/train/mask\"\n",
    "test_img_dir = \"/mnt/d/Data/segmetation/망막/test/image\"\n",
    "test_lable_dir = \"/mnt/d/Data/segmetation/망막/test/mask\""
   ]
  },
  {
   "cell_type": "code",
   "execution_count": 3,
   "metadata": {},
   "outputs": [
    {
     "name": "stdout",
     "output_type": "stream",
     "text": [
      "64 16\n"
     ]
    }
   ],
   "source": [
    "img_list = glob(\"/mnt/d/Data/segmetation/망막/train/image/*png\")\n",
    "train_img_list, val_img_list = train_test_split(img_list, test_size=0.2, random_state=2000)\n",
    "print(len(train_img_list), len(val_img_list))\n",
    "\n",
    "with open('./dataset/train_img.txt', 'w') as f:\n",
    "    f.write('\\n'.join(train_img_list) + '\\n')\n",
    "\n",
    "with open('./dataset/val_img.txt', 'w') as f:\n",
    "    f.write('\\n'.join(val_img_list) + '\\n')"
   ]
  },
  {
   "cell_type": "code",
   "execution_count": 4,
   "metadata": {},
   "outputs": [],
   "source": [
    "test_img_list = glob(\"/mnt/d/Data/segmetation/망막/test/image/*png\")\n",
    "\n",
    "with open('./dataset/test_img.txt', 'w') as f:\n",
    "    f.write('\\n'.join(test_img_list) + '\\n')"
   ]
  },
  {
   "cell_type": "code",
   "execution_count": 5,
   "metadata": {},
   "outputs": [],
   "source": [
    "def making_mask(dir):\n",
    "    # 파일 읽기\n",
    "    with open(f'{dir}_img.txt', 'r') as file:\n",
    "        lines = file.readlines()  # 각 줄을 리스트로 읽어들임\n",
    "\n",
    "    # 내용 수정 (예: 특정 문자열을 다른 문자열로 교체)\n",
    "    new_lines = []\n",
    "    for line in lines:\n",
    "        new_line = line.replace('image', 'mask')  # 예: 'old_string'을 'new_string'으로 교체\n",
    "        new_lines.append(new_line)\n",
    "\n",
    "    # 수정된 내용을 파일에 다시 쓰기\n",
    "    with open(f'{dir}_mask.txt', 'w') as file:\n",
    "        file.writelines(new_lines)\n",
    "\n",
    "making_mask(\"./dataset/train\")\n",
    "making_mask(\"./dataset/val\")\n",
    "making_mask(\"./dataset/test\")"
   ]
  },
  {
   "cell_type": "code",
   "execution_count": 6,
   "metadata": {},
   "outputs": [],
   "source": [
    "def chage_np(txt_file, save_folder, target):\n",
    "    # 파일 읽기\n",
    "    with open(txt_file, 'r') as file:\n",
    "        lines = file.readlines()  # 각 줄을 리스트로 읽어들임\n",
    "    for line in lines:\n",
    "        fname = Image.open(line[:-1])\n",
    "        # fname = fname.convert(\"L\")\n",
    "        fname_arr = np.asarray(fname)\n",
    "        file_names = os.path.basename(line)\n",
    "        file_names = file_names[:-5]\n",
    "        np.save(f\"./dataset/{save_folder}/{target}_{file_names}.npy\", fname_arr)\n",
    "\n",
    "chage_np(\"./dataset/train_img.txt\", \"train\", \"img\")\n",
    "chage_np(\"./dataset/train_mask.txt\", \"train\", \"mask\")\n",
    "chage_np(\"./dataset/val_img.txt\", \"val\", \"img\")\n",
    "chage_np(\"./dataset/val_mask.txt\", \"val\", \"mask\")\n",
    "chage_np(\"./dataset/test_img.txt\", \"test\", \"img\")\n",
    "chage_np(\"./dataset/test_mask.txt\", \"test\", \"mask\")"
   ]
  },
  {
   "cell_type": "code",
   "execution_count": null,
   "metadata": {},
   "outputs": [],
   "source": []
  },
  {
   "cell_type": "code",
   "execution_count": null,
   "metadata": {},
   "outputs": [],
   "source": []
  }
 ],
 "metadata": {
  "kernelspec": {
   "display_name": "py310",
   "language": "python",
   "name": "python3"
  },
  "language_info": {
   "codemirror_mode": {
    "name": "ipython",
    "version": 3
   },
   "file_extension": ".py",
   "mimetype": "text/x-python",
   "name": "python",
   "nbconvert_exporter": "python",
   "pygments_lexer": "ipython3",
   "version": "3.10.13"
  }
 },
 "nbformat": 4,
 "nbformat_minor": 2
}
